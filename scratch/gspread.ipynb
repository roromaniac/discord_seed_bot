{
 "cells": [
  {
   "cell_type": "code",
   "execution_count": 6,
   "id": "c2d3b4e2",
   "metadata": {},
   "outputs": [
    {
     "name": "stdout",
     "output_type": "stream",
     "text": [
      "[['Timestamp']]\n"
     ]
    }
   ],
   "source": [
    "import gspread\n",
    "\n",
    "gc = gspread.service_account(filename=\"../credentials/service_account.json\")\n",
    "\n",
    "sh = gc.open(\"Fresh Faces 3 Async Form (Responses)\")\n",
    "\n",
    "print(sh.sheet1.get('A1'))"
   ]
  },
  {
   "cell_type": "code",
   "execution_count": 14,
   "id": "3b56dd72",
   "metadata": {},
   "outputs": [
    {
     "name": "stdout",
     "output_type": "stream",
     "text": [
      "['Timestamp']\n"
     ]
    },
    {
     "data": {
      "text/plain": [
       "0"
      ]
     },
     "execution_count": 14,
     "metadata": {},
     "output_type": "execute_result"
    }
   ],
   "source": [
    "# get number of submissions\n",
    "\n",
    "values_list = sh.sheet1.col_values(1) \n",
    "print(values_list)\n",
    "len(values_list) - 1"
   ]
  },
  {
   "cell_type": "code",
   "execution_count": 19,
   "id": "276a73d6",
   "metadata": {},
   "outputs": [
    {
     "name": "stdout",
     "output_type": "stream",
     "text": [
      "[{'Timestamp': '7/9/2025 0:20:59', 'What is your discord ID? This is NOT your username. To find out your Discord ID, right click on your username and select \"Copy User ID\". You can paste the result here.': 152522632938389504, \"Do you have your own unlisted YouTube/Twitch channel you want to stream the async to?\\n\\nPlease don't worry if you don't. We will provide you with a stream key to use if you can't/don't want to use your own.\": 'No', 'If you responded \"Yes\" to having your own stream, please include the stream link to your async.': '', 'On what day would you like to play your async?\\n\\nThe async must be between Jul 24 12:00 EDT and Jul 31 10:00 EDT.': '7/9/2025', 'What time would you like to play your async?': '1:00:00 AM'}]\n"
     ]
    }
   ],
   "source": [
    "records = sh.sheet1.get_all_records()\n",
    "print(records)"
   ]
  },
  {
   "cell_type": "code",
   "execution_count": null,
   "id": "0cbd1655",
   "metadata": {},
   "outputs": [],
   "source": []
  }
 ],
 "metadata": {
  "kernelspec": {
   "display_name": "discord_seed_bot",
   "language": "python",
   "name": "python3"
  },
  "language_info": {
   "codemirror_mode": {
    "name": "ipython",
    "version": 3
   },
   "file_extension": ".py",
   "mimetype": "text/x-python",
   "name": "python",
   "nbconvert_exporter": "python",
   "pygments_lexer": "ipython3",
   "version": "3.12.4"
  }
 },
 "nbformat": 4,
 "nbformat_minor": 5
}
