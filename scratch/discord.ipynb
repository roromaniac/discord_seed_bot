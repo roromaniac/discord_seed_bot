{
 "cells": [
  {
   "cell_type": "code",
   "execution_count": 1,
   "id": "a7d3ca9d",
   "metadata": {},
   "outputs": [],
   "source": [
    "import discord\n",
    "import os\n",
    "\n",
    "intents = discord.Intents.default()\n",
    "intents.members = True  # Need this to see members\n",
    "\n",
    "client = discord.Client(intents=intents)"
   ]
  },
  {
   "cell_type": "code",
   "execution_count": 2,
   "id": "38eb8c40",
   "metadata": {},
   "outputs": [],
   "source": [
    "from dotenv import load_dotenv\n",
    "load_dotenv()\n",
    "\n",
    "import discord\n",
    "\n",
    "intents = discord.Intents.default()\n",
    "intents.members = True  # Need this to see members\n",
    "\n",
    "client = discord.Client(intents=intents)\n",
    "\n",
    "@client.event\n",
    "async def on_ready():\n",
    "    user = await client.fetch_user(611722032198975511)\n",
    "    print(user)\n",
    "    await user.send(\"Hi Ignited! This is roro testing if his Python bot can send anything to test out his asyncs. :) Thank you for all the work you have done! In case no one told you, you've been doing an amazing job!\")"
   ]
  },
  {
   "cell_type": "code",
   "execution_count": null,
   "id": "fa89ab5a",
   "metadata": {},
   "outputs": [
    {
     "name": "stdout",
     "output_type": "stream",
     "text": [
      "roromaniac\n"
     ]
    }
   ],
   "source": [
    "await client.start(os.getenv(\"DISCORD_TOKEN\"))"
   ]
  },
  {
   "cell_type": "code",
   "execution_count": null,
   "id": "5df0badb",
   "metadata": {},
   "outputs": [],
   "source": []
  }
 ],
 "metadata": {
  "kernelspec": {
   "display_name": "ff3_env",
   "language": "python",
   "name": "python3"
  },
  "language_info": {
   "codemirror_mode": {
    "name": "ipython",
    "version": 3
   },
   "file_extension": ".py",
   "mimetype": "text/x-python",
   "name": "python",
   "nbconvert_exporter": "python",
   "pygments_lexer": "ipython3",
   "version": "3.13.5"
  }
 },
 "nbformat": 4,
 "nbformat_minor": 5
}
