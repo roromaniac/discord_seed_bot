{
 "cells": [
  {
   "cell_type": "code",
   "execution_count": 3,
   "id": "a7d3ca9d",
   "metadata": {},
   "outputs": [],
   "source": [
    "import discord\n",
    "import os\n",
    "\n",
    "intents = discord.Intents.default()\n",
    "intents.members = True  # Need this to see members\n",
    "\n",
    "client = discord.Client(intents=intents)"
   ]
  },
  {
   "cell_type": "code",
   "execution_count": 4,
   "id": "38eb8c40",
   "metadata": {},
   "outputs": [],
   "source": [
    "from dotenv import load_dotenv\n",
    "load_dotenv()\n",
    "\n",
    "import discord\n",
    "\n",
    "intents = discord.Intents.default()\n",
    "intents.members = True  # Need this to see members\n",
    "\n",
    "client = discord.Client(intents=intents)\n",
    "\n",
    "@client.event\n",
    "async def on_ready():\n",
    "    user = await client.fetch_user(611722032198975511)\n",
    "    print(user)\n",
    "    await user.send(file=discord.File(\"../seeds/seed1.png\"))"
   ]
  },
  {
   "cell_type": "code",
   "execution_count": 5,
   "id": "fa89ab5a",
   "metadata": {},
   "outputs": [
    {
     "name": "stdout",
     "output_type": "stream",
     "text": [
      "roromaniac\n"
     ]
    },
    {
     "ename": "CancelledError",
     "evalue": "",
     "output_type": "error",
     "traceback": [
      "\u001b[31m---------------------------------------------------------------------------\u001b[39m",
      "\u001b[31mCancelledError\u001b[39m                            Traceback (most recent call last)",
      "\u001b[36mCell\u001b[39m\u001b[36m \u001b[39m\u001b[32mIn[5]\u001b[39m\u001b[32m, line 1\u001b[39m\n\u001b[32m----> \u001b[39m\u001b[32m1\u001b[39m \u001b[38;5;28;01mawait\u001b[39;00m client.start(os.getenv(\u001b[33m\"\u001b[39m\u001b[33mDISCORD_TOKEN\u001b[39m\u001b[33m\"\u001b[39m))\n",
      "\u001b[36mFile \u001b[39m\u001b[32mc:\\Users\\Owner\\Documents\\RandoProjects\\discord_seed_bot\\ff3_env\\Lib\\site-packages\\discord\\client.py:824\u001b[39m, in \u001b[36mClient.start\u001b[39m\u001b[34m(self, token, reconnect)\u001b[39m\n\u001b[32m    803\u001b[39m \u001b[38;5;250m\u001b[39m\u001b[33;03m\"\"\"|coro|\u001b[39;00m\n\u001b[32m    804\u001b[39m \n\u001b[32m    805\u001b[39m \u001b[33;03mA shorthand coroutine for :meth:`login` + :meth:`connect`.\u001b[39;00m\n\u001b[32m   (...)\u001b[39m\u001b[32m    821\u001b[39m \u001b[33;03m    An unexpected keyword argument was received.\u001b[39;00m\n\u001b[32m    822\u001b[39m \u001b[33;03m\"\"\"\u001b[39;00m\n\u001b[32m    823\u001b[39m \u001b[38;5;28;01mawait\u001b[39;00m \u001b[38;5;28mself\u001b[39m.login(token)\n\u001b[32m--> \u001b[39m\u001b[32m824\u001b[39m \u001b[38;5;28;01mawait\u001b[39;00m \u001b[38;5;28mself\u001b[39m.connect(reconnect=reconnect)\n",
      "\u001b[36mFile \u001b[39m\u001b[32mc:\\Users\\Owner\\Documents\\RandoProjects\\discord_seed_bot\\ff3_env\\Lib\\site-packages\\discord\\client.py:704\u001b[39m, in \u001b[36mClient.connect\u001b[39m\u001b[34m(self, reconnect)\u001b[39m\n\u001b[32m    702\u001b[39m     ws_params[\u001b[33m'\u001b[39m\u001b[33minitial\u001b[39m\u001b[33m'\u001b[39m] = \u001b[38;5;28;01mFalse\u001b[39;00m\n\u001b[32m    703\u001b[39m     \u001b[38;5;28;01mwhile\u001b[39;00m \u001b[38;5;28;01mTrue\u001b[39;00m:\n\u001b[32m--> \u001b[39m\u001b[32m704\u001b[39m         \u001b[38;5;28;01mawait\u001b[39;00m \u001b[38;5;28mself\u001b[39m.ws.poll_event()\n\u001b[32m    705\u001b[39m \u001b[38;5;28;01mexcept\u001b[39;00m ReconnectWebSocket \u001b[38;5;28;01mas\u001b[39;00m e:\n\u001b[32m    706\u001b[39m     _log.debug(\u001b[33m'\u001b[39m\u001b[33mGot a request to \u001b[39m\u001b[38;5;132;01m%s\u001b[39;00m\u001b[33m the websocket.\u001b[39m\u001b[33m'\u001b[39m, e.op)\n",
      "\u001b[36mFile \u001b[39m\u001b[32mc:\\Users\\Owner\\Documents\\RandoProjects\\discord_seed_bot\\ff3_env\\Lib\\site-packages\\discord\\gateway.py:623\u001b[39m, in \u001b[36mDiscordWebSocket.poll_event\u001b[39m\u001b[34m(self)\u001b[39m\n\u001b[32m    615\u001b[39m \u001b[38;5;250m\u001b[39m\u001b[33;03m\"\"\"Polls for a DISPATCH event and handles the general gateway loop.\u001b[39;00m\n\u001b[32m    616\u001b[39m \n\u001b[32m    617\u001b[39m \u001b[33;03mRaises\u001b[39;00m\n\u001b[32m   (...)\u001b[39m\u001b[32m    620\u001b[39m \u001b[33;03m    The websocket connection was terminated for unhandled reasons.\u001b[39;00m\n\u001b[32m    621\u001b[39m \u001b[33;03m\"\"\"\u001b[39;00m\n\u001b[32m    622\u001b[39m \u001b[38;5;28;01mtry\u001b[39;00m:\n\u001b[32m--> \u001b[39m\u001b[32m623\u001b[39m     msg = \u001b[38;5;28;01mawait\u001b[39;00m \u001b[38;5;28mself\u001b[39m.socket.receive(timeout=\u001b[38;5;28mself\u001b[39m._max_heartbeat_timeout)\n\u001b[32m    624\u001b[39m     \u001b[38;5;28;01mif\u001b[39;00m msg.type \u001b[38;5;129;01mis\u001b[39;00m aiohttp.WSMsgType.TEXT:\n\u001b[32m    625\u001b[39m         \u001b[38;5;28;01mawait\u001b[39;00m \u001b[38;5;28mself\u001b[39m.received_message(msg.data)\n",
      "\u001b[36mFile \u001b[39m\u001b[32mc:\\Users\\Owner\\Documents\\RandoProjects\\discord_seed_bot\\ff3_env\\Lib\\site-packages\\aiohttp\\client_ws.py:334\u001b[39m, in \u001b[36mClientWebSocketResponse.receive\u001b[39m\u001b[34m(self, timeout)\u001b[39m\n\u001b[32m    328\u001b[39m \u001b[38;5;28;01mif\u001b[39;00m receive_timeout:\n\u001b[32m    329\u001b[39m     \u001b[38;5;66;03m# Entering the context manager and creating\u001b[39;00m\n\u001b[32m    330\u001b[39m     \u001b[38;5;66;03m# Timeout() object can take almost 50% of the\u001b[39;00m\n\u001b[32m    331\u001b[39m     \u001b[38;5;66;03m# run time in this loop so we avoid it if\u001b[39;00m\n\u001b[32m    332\u001b[39m     \u001b[38;5;66;03m# there is no read timeout.\u001b[39;00m\n\u001b[32m    333\u001b[39m     \u001b[38;5;28;01masync\u001b[39;00m \u001b[38;5;28;01mwith\u001b[39;00m async_timeout.timeout(receive_timeout):\n\u001b[32m--> \u001b[39m\u001b[32m334\u001b[39m         msg = \u001b[38;5;28;01mawait\u001b[39;00m \u001b[38;5;28mself\u001b[39m._reader.read()\n\u001b[32m    335\u001b[39m \u001b[38;5;28;01melse\u001b[39;00m:\n\u001b[32m    336\u001b[39m     msg = \u001b[38;5;28;01mawait\u001b[39;00m \u001b[38;5;28mself\u001b[39m._reader.read()\n",
      "\u001b[36mFile \u001b[39m\u001b[32mc:\\Users\\Owner\\Documents\\RandoProjects\\discord_seed_bot\\ff3_env\\Lib\\site-packages\\aiohttp\\_websocket\\reader_c.py:118\u001b[39m, in \u001b[36mread\u001b[39m\u001b[34m()\u001b[39m\n",
      "\u001b[36mFile \u001b[39m\u001b[32mc:\\Users\\Owner\\Documents\\RandoProjects\\discord_seed_bot\\ff3_env\\Lib\\site-packages\\aiohttp\\_websocket\\reader_c.py:115\u001b[39m, in \u001b[36maiohttp._websocket.reader_c.WebSocketDataQueue.read\u001b[39m\u001b[34m()\u001b[39m\n",
      "\u001b[31mCancelledError\u001b[39m: "
     ]
    }
   ],
   "source": [
    "await client.start(os.getenv(\"DISCORD_TOKEN\"))"
   ]
  },
  {
   "cell_type": "code",
   "execution_count": null,
   "id": "5df0badb",
   "metadata": {},
   "outputs": [],
   "source": []
  }
 ],
 "metadata": {
  "kernelspec": {
   "display_name": "ff3_env",
   "language": "python",
   "name": "python3"
  },
  "language_info": {
   "codemirror_mode": {
    "name": "ipython",
    "version": 3
   },
   "file_extension": ".py",
   "mimetype": "text/x-python",
   "name": "python",
   "nbconvert_exporter": "python",
   "pygments_lexer": "ipython3",
   "version": "3.13.5"
  }
 },
 "nbformat": 4,
 "nbformat_minor": 5
}
