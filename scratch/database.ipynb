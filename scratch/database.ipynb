{
 "cells": [
  {
   "cell_type": "code",
   "execution_count": 6,
   "id": "d3d5ba4c",
   "metadata": {},
   "outputs": [],
   "source": [
    "import psycopg2\n",
    "import sys\n",
    "import os\n",
    "sys.path.append(os.path.abspath(os.path.join(os.getcwd(), '..')))\n",
    "from scripts.data import connect, load_config"
   ]
  },
  {
   "cell_type": "code",
   "execution_count": 7,
   "id": "fe252fbd",
   "metadata": {},
   "outputs": [
    {
     "name": "stdout",
     "output_type": "stream",
     "text": [
      "Connected to the PostgreSQL server.\n"
     ]
    },
    {
     "data": {
      "text/plain": [
       "<connection object at 0x000001B0E4BDC480; dsn: 'user=neondb_owner password=xxx channel_binding=require dbname=neondb host=ep-proud-cherry-a8zsns0z-pooler.eastus2.azure.neon.tech sslmode=require', closed: 0>"
      ]
     },
     "execution_count": 7,
     "metadata": {},
     "output_type": "execute_result"
    }
   ],
   "source": [
    "config = load_config()\n",
    "connect(config)"
   ]
  },
  {
   "cell_type": "code",
   "execution_count": null,
   "id": "3c49e419",
   "metadata": {},
   "outputs": [],
   "source": [
    "def insert_async(discord_id, discord_name, async_time_timestamp, stream_key, valid_async, invalid_reason, initial_notif, yt_live_notif, streaming_notif, seed_notif, seed_number):\n",
    "    \"\"\" Insert a new vendor into the vendors table \"\"\"\n",
    "    sql = \"\"\"INSERT INTO async_submissions.async_submissions(discord_id, discord_name, async_time_timestamp, stream_key, valid_async, invalid_reason, initial_notif, yt_live_notif, streaming_notif, seed_notif, seed_number)\n",
    "             VALUES(%s, %s, %s, %s, %s, %s, %s, %s, %s, %s, %s) RETURNING valid_async;\"\"\"\n",
    "    config = load_config()\n",
    "    try:\n",
    "        with psycopg2.connect(**config) as conn:\n",
    "            with conn.cursor() as cur:\n",
    "                # execute the INSERT statement with dummy data\n",
    "                cur.execute(sql, (discord_id, discord_name, async_time_timestamp, stream_key, valid_async, invalid_reason, initial_notif, yt_live_notif, streaming_notif, seed_notif, seed_number))\n",
    "                # get the generated id back\n",
    "                rows = cur.fetchone()\n",
    "                if rows:\n",
    "                    some_sort_of_id = rows[0]\n",
    "                # commit the changes to the database\n",
    "                conn.commit()\n",
    "    except (Exception, psycopg2.DatabaseError) as error:\n",
    "        print(error)"
   ]
  },
  {
   "cell_type": "code",
   "execution_count": 14,
   "id": "3ea2e058",
   "metadata": {},
   "outputs": [
    {
     "data": {
      "text/plain": [
       "'Uh oh.'"
      ]
     },
     "execution_count": 14,
     "metadata": {},
     "output_type": "execute_result"
    }
   ],
   "source": [
    "discord_id = 611722032198975511\n",
    "discord_name = \"ExampleUser\"\n",
    "async_time_timestamp = \"<t:1752613887:f>\"\n",
    "stream_key = \"example_stream_key\"\n",
    "valid_async = True\n",
    "invalid_reason = \"\"\n",
    "initial_notif = True\n",
    "yt_live_notif = True\n",
    "streaming_notif = True\n",
    "seed_notif = True\n",
    "seed_number = 42\n",
    "insert_async(discord_id, discord_name, async_time_timestamp, stream_key, valid_async, invalid_reason, initial_notif, yt_live_notif, streaming_notif, seed_notif, seed_number)"
   ]
  },
  {
   "cell_type": "code",
   "execution_count": null,
   "id": "7688b7e0",
   "metadata": {},
   "outputs": [],
   "source": []
  }
 ],
 "metadata": {
  "kernelspec": {
   "display_name": "ff3_env",
   "language": "python",
   "name": "python3"
  },
  "language_info": {
   "codemirror_mode": {
    "name": "ipython",
    "version": 3
   },
   "file_extension": ".py",
   "mimetype": "text/x-python",
   "name": "python",
   "nbconvert_exporter": "python",
   "pygments_lexer": "ipython3",
   "version": "3.13.5"
  }
 },
 "nbformat": 4,
 "nbformat_minor": 5
}
